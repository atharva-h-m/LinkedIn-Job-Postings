{
 "cells": [
  {
   "cell_type": "markdown",
   "metadata": {},
   "source": [
    "# <ins>**Exploratory Data Analysis**</ins>"
   ]
  },
  {
   "cell_type": "code",
   "execution_count": 1,
   "metadata": {},
   "outputs": [],
   "source": [
    "# Required Imports\n",
    "\n",
    "import pandas as pd\n",
    "import matplotlib.pyplot as plt\n",
    "import seaborn as sns\n",
    "import plotly.express as px\n",
    "import geopandas as gpd\n",
    "import ipywidgets as widgets\n",
    "import json\n",
    "from IPython.display import display, clear_output"
   ]
  },
  {
   "cell_type": "code",
   "execution_count": 2,
   "metadata": {},
   "outputs": [],
   "source": [
    "df_companies = pd.read_csv('../data/transformed/company_final.csv')\n",
    "df_companies['industry'] = df_companies['industry'].apply(json.loads)\n",
    "df_companies['speciality'] = df_companies['speciality'].apply(json.loads)"
   ]
  },
  {
   "cell_type": "code",
   "execution_count": 3,
   "metadata": {},
   "outputs": [
    {
     "name": "stdout",
     "output_type": "stream",
     "text": [
      "<class 'pandas.core.frame.DataFrame'>\n",
      "RangeIndex: 24450 entries, 0 to 24449\n",
      "Data columns (total 11 columns):\n",
      " #   Column          Non-Null Count  Dtype \n",
      "---  ------          --------------  ----- \n",
      " 0   company_id      24450 non-null  int64 \n",
      " 1   name            24450 non-null  object\n",
      " 2   country         24450 non-null  object\n",
      " 3   state           24450 non-null  object\n",
      " 4   city            24450 non-null  object\n",
      " 5   url             24450 non-null  object\n",
      " 6   industry        24450 non-null  object\n",
      " 7   speciality      24450 non-null  object\n",
      " 8   employee_count  24450 non-null  int64 \n",
      " 9   follower_count  24450 non-null  int64 \n",
      " 10  time_recorded   24450 non-null  object\n",
      "dtypes: int64(3), object(8)\n",
      "memory usage: 2.1+ MB\n"
     ]
    }
   ],
   "source": [
    "df_companies.info()"
   ]
  },
  {
   "cell_type": "code",
   "execution_count": 4,
   "metadata": {},
   "outputs": [
    {
     "data": {
      "text/html": [
       "<div>\n",
       "<style scoped>\n",
       "    .dataframe tbody tr th:only-of-type {\n",
       "        vertical-align: middle;\n",
       "    }\n",
       "\n",
       "    .dataframe tbody tr th {\n",
       "        vertical-align: top;\n",
       "    }\n",
       "\n",
       "    .dataframe thead th {\n",
       "        text-align: right;\n",
       "    }\n",
       "</style>\n",
       "<table border=\"1\" class=\"dataframe\">\n",
       "  <thead>\n",
       "    <tr style=\"text-align: right;\">\n",
       "      <th></th>\n",
       "      <th>company_id</th>\n",
       "      <th>name</th>\n",
       "      <th>country</th>\n",
       "      <th>state</th>\n",
       "      <th>city</th>\n",
       "      <th>url</th>\n",
       "      <th>industry</th>\n",
       "      <th>speciality</th>\n",
       "      <th>employee_count</th>\n",
       "      <th>follower_count</th>\n",
       "      <th>time_recorded</th>\n",
       "    </tr>\n",
       "  </thead>\n",
       "  <tbody>\n",
       "    <tr>\n",
       "      <th>0</th>\n",
       "      <td>1009</td>\n",
       "      <td>IBM</td>\n",
       "      <td>US</td>\n",
       "      <td>NY</td>\n",
       "      <td>ARMONK, NEW YORK</td>\n",
       "      <td>https://www.linkedin.com/company/ibm</td>\n",
       "      <td>[IT SERVICES AND IT CONSULTING]</td>\n",
       "      <td>[CLOUD, MOBILE, COGNITIVE, SECURITY, RESEARCH,...</td>\n",
       "      <td>311223</td>\n",
       "      <td>16314846</td>\n",
       "      <td>1970-01-20 19:58:21.255</td>\n",
       "    </tr>\n",
       "    <tr>\n",
       "      <th>1</th>\n",
       "      <td>1016</td>\n",
       "      <td>GE HEALTHCARE</td>\n",
       "      <td>US</td>\n",
       "      <td>0</td>\n",
       "      <td>CHICAGO</td>\n",
       "      <td>https://www.linkedin.com/company/gehealthcare</td>\n",
       "      <td>[HOSPITALS AND HEALTH CARE]</td>\n",
       "      <td>[HEALTHCARE, BIOTECHNOLOGY]</td>\n",
       "      <td>57001</td>\n",
       "      <td>2196350</td>\n",
       "      <td>1970-01-20 19:59:29.031</td>\n",
       "    </tr>\n",
       "    <tr>\n",
       "      <th>2</th>\n",
       "      <td>1025</td>\n",
       "      <td>HEWLETT PACKARD ENTERPRISE</td>\n",
       "      <td>US</td>\n",
       "      <td>TEXAS</td>\n",
       "      <td>HOUSTON</td>\n",
       "      <td>https://www.linkedin.com/company/hewlett-packa...</td>\n",
       "      <td>[IT SERVICES AND IT CONSULTING]</td>\n",
       "      <td>[OTHER]</td>\n",
       "      <td>79559</td>\n",
       "      <td>3588329</td>\n",
       "      <td>1970-01-20 19:57:33.258</td>\n",
       "    </tr>\n",
       "    <tr>\n",
       "      <th>3</th>\n",
       "      <td>1028</td>\n",
       "      <td>ORACLE</td>\n",
       "      <td>US</td>\n",
       "      <td>TEXAS</td>\n",
       "      <td>AUSTIN</td>\n",
       "      <td>https://www.linkedin.com/company/oracle</td>\n",
       "      <td>[IT SERVICES AND IT CONSULTING]</td>\n",
       "      <td>[ENTERPRISE, SOFTWARE, APPLICATIONS, DATABASE,...</td>\n",
       "      <td>191374</td>\n",
       "      <td>9497909</td>\n",
       "      <td>1970-01-20 19:59:00.073</td>\n",
       "    </tr>\n",
       "    <tr>\n",
       "      <th>4</th>\n",
       "      <td>1033</td>\n",
       "      <td>ACCENTURE</td>\n",
       "      <td>IE</td>\n",
       "      <td>0</td>\n",
       "      <td>DUBLIN 2</td>\n",
       "      <td>https://www.linkedin.com/company/accenture</td>\n",
       "      <td>[BUSINESS CONSULTING AND SERVICES]</td>\n",
       "      <td>[MANAGEMENT CONSULTING, SYSTEMS INTEGRATION AN...</td>\n",
       "      <td>565191</td>\n",
       "      <td>11890321</td>\n",
       "      <td>1970-01-20 19:59:29.451</td>\n",
       "    </tr>\n",
       "  </tbody>\n",
       "</table>\n",
       "</div>"
      ],
      "text/plain": [
       "   company_id                        name country  state              city  \\\n",
       "0        1009                         IBM      US     NY  ARMONK, NEW YORK   \n",
       "1        1016               GE HEALTHCARE      US      0           CHICAGO   \n",
       "2        1025  HEWLETT PACKARD ENTERPRISE      US  TEXAS           HOUSTON   \n",
       "3        1028                      ORACLE      US  TEXAS            AUSTIN   \n",
       "4        1033                   ACCENTURE      IE      0          DUBLIN 2   \n",
       "\n",
       "                                                 url  \\\n",
       "0               https://www.linkedin.com/company/ibm   \n",
       "1      https://www.linkedin.com/company/gehealthcare   \n",
       "2  https://www.linkedin.com/company/hewlett-packa...   \n",
       "3            https://www.linkedin.com/company/oracle   \n",
       "4         https://www.linkedin.com/company/accenture   \n",
       "\n",
       "                             industry  \\\n",
       "0     [IT SERVICES AND IT CONSULTING]   \n",
       "1         [HOSPITALS AND HEALTH CARE]   \n",
       "2     [IT SERVICES AND IT CONSULTING]   \n",
       "3     [IT SERVICES AND IT CONSULTING]   \n",
       "4  [BUSINESS CONSULTING AND SERVICES]   \n",
       "\n",
       "                                          speciality  employee_count  \\\n",
       "0  [CLOUD, MOBILE, COGNITIVE, SECURITY, RESEARCH,...          311223   \n",
       "1                        [HEALTHCARE, BIOTECHNOLOGY]           57001   \n",
       "2                                            [OTHER]           79559   \n",
       "3  [ENTERPRISE, SOFTWARE, APPLICATIONS, DATABASE,...          191374   \n",
       "4  [MANAGEMENT CONSULTING, SYSTEMS INTEGRATION AN...          565191   \n",
       "\n",
       "   follower_count            time_recorded  \n",
       "0        16314846  1970-01-20 19:58:21.255  \n",
       "1         2196350  1970-01-20 19:59:29.031  \n",
       "2         3588329  1970-01-20 19:57:33.258  \n",
       "3         9497909  1970-01-20 19:59:00.073  \n",
       "4        11890321  1970-01-20 19:59:29.451  "
      ]
     },
     "execution_count": 4,
     "metadata": {},
     "output_type": "execute_result"
    }
   ],
   "source": [
    "df_companies.head()"
   ]
  },
  {
   "cell_type": "code",
   "execution_count": 5,
   "metadata": {},
   "outputs": [
    {
     "data": {
      "application/vnd.plotly.v1+json": {
       "config": {
        "plotlyServerURL": "https://plot.ly"
       },
       "data": [
        {
         "branchvalues": "total",
         "domain": {
          "x": [
           0,
           1
          ],
          "y": [
           0,
           1
          ]
         },
         "hovertemplate": "labels=%{label}<br>company_id=%{value}<br>parent=%{parent}<br>id=%{id}<extra></extra>",
         "ids": [
          "ACCOUNTING",
          "ADMINISTRATION OF JUSTICE",
          "ADVERTISING SERVICES",
          "AIRLINES AND AVIATION",
          "ALTERNATIVE DISPUTE RESOLUTION",
          "ALTERNATIVE MEDICINE",
          "ANIMATION AND POST-PRODUCTION",
          "APPLIANCES, ELECTRICAL, AND ELECTRONICS MANUFACTURING",
          "ARCHITECTURE AND PLANNING",
          "ARMED FORCES",
          "ARTISTS AND WRITERS",
          "AUTOMATION MACHINERY MANUFACTURING",
          "AVIATION AND AEROSPACE COMPONENT MANUFACTURING",
          "BANKING",
          "BEVERAGE MANUFACTURING",
          "BIOTECHNOLOGY RESEARCH",
          "BOOK AND PERIODICAL PUBLISHING",
          "BROADCAST MEDIA PRODUCTION AND DISTRIBUTION",
          "BUSINESS CONSULTING AND SERVICES",
          "CHEMICAL MANUFACTURING",
          "CIVIC AND SOCIAL ORGANIZATIONS",
          "CIVIL ENGINEERING",
          "COMPUTER AND NETWORK SECURITY",
          "COMPUTER GAMES",
          "COMPUTER HARDWARE MANUFACTURING",
          "COMPUTER NETWORKING PRODUCTS",
          "COMPUTERS AND ELECTRONICS MANUFACTURING",
          "CONSTRUCTION",
          "CONSUMER SERVICES",
          "DAIRY PRODUCT MANUFACTURING",
          "DEFENSE AND SPACE MANUFACTURING",
          "DESIGN SERVICES",
          "E-LEARNING PROVIDERS",
          "EDUCATION ADMINISTRATION PROGRAMS",
          "ENTERTAINMENT PROVIDERS",
          "ENVIRONMENTAL SERVICES",
          "EVENTS SERVICES",
          "EXECUTIVE OFFICES",
          "FACILITIES SERVICES",
          "FARMING",
          "FINANCIAL SERVICES",
          "FISHERIES",
          "FOOD AND BEVERAGE MANUFACTURING",
          "FOOD AND BEVERAGE SERVICES",
          "FREIGHT AND PACKAGE TRANSPORTATION",
          "FUNDRAISING",
          "FURNITURE AND HOME FURNISHINGS MANUFACTURING",
          "GAMBLING FACILITIES AND CASINOS",
          "GLASS, CERAMICS AND CONCRETE MANUFACTURING",
          "GOVERNMENT ADMINISTRATION",
          "GOVERNMENT RELATIONS SERVICES",
          "GRAPHIC DESIGN",
          "HIGHER EDUCATION",
          "HOSPITALITY",
          "HOSPITALS AND HEALTH CARE",
          "HUMAN RESOURCES SERVICES",
          "INDIVIDUAL AND FAMILY SERVICES",
          "INDUSTRIAL MACHINERY MANUFACTURING",
          "INFORMATION SERVICES",
          "INSURANCE",
          "INTERNATIONAL AFFAIRS",
          "INTERNATIONAL TRADE AND DEVELOPMENT",
          "INVESTMENT BANKING",
          "INVESTMENT MANAGEMENT",
          "IT SERVICES AND IT CONSULTING",
          "LAW ENFORCEMENT",
          "LAW PRACTICE",
          "LEASING NON-RESIDENTIAL REAL ESTATE",
          "LEGAL SERVICES",
          "LEGISLATIVE OFFICES",
          "LIBRARIES",
          "MACHINERY MANUFACTURING",
          "MANUFACTURING",
          "MARITIME TRANSPORTATION",
          "MARKET RESEARCH",
          "MEDIA PRODUCTION",
          "MEDICAL EQUIPMENT MANUFACTURING",
          "MEDICAL PRACTICES",
          "MENTAL HEALTH CARE",
          "MINING",
          "MOBILE GAMING APPS",
          "MOTOR VEHICLE MANUFACTURING",
          "MUSEUMS, HISTORICAL SITES, AND ZOOS",
          "MUSICIANS",
          "NANOTECHNOLOGY RESEARCH",
          "NEWSPAPER PUBLISHING",
          "NON-PROFIT ORGANIZATIONS",
          "OIL AND GAS",
          "ONLINE AUDIO AND VIDEO MEDIA",
          "OUTSOURCING AND OFFSHORING CONSULTING",
          "PACKAGING AND CONTAINERS MANUFACTURING",
          "PAPER AND FOREST PRODUCT MANUFACTURING",
          "PERFORMING ARTS",
          "PERSONAL CARE PRODUCT MANUFACTURING",
          "PHARMACEUTICAL MANUFACTURING",
          "PHILANTHROPIC FUNDRAISING SERVICES",
          "PHOTOGRAPHY",
          "PLASTICS MANUFACTURING",
          "POLITICAL ORGANIZATIONS",
          "PRIMARY AND SECONDARY EDUCATION",
          "PRINTING SERVICES",
          "PROFESSIONAL TRAINING AND COACHING",
          "PUBLIC POLICY OFFICES",
          "PUBLIC RELATIONS AND COMMUNICATIONS SERVICES",
          "PUBLIC SAFETY",
          "RAILROAD EQUIPMENT MANUFACTURING",
          "REAL ESTATE",
          "RECREATIONAL FACILITIES",
          "RELIGIOUS INSTITUTIONS",
          "RENEWABLE ENERGY SEMICONDUCTOR MANUFACTURING",
          "RESEARCH SERVICES",
          "RESTAURANTS",
          "RETAIL",
          "RETAIL APPAREL AND FASHION",
          "RETAIL GROCERIES",
          "RETAIL LUXURY GOODS AND JEWELRY",
          "RETAIL OFFICE EQUIPMENT",
          "SECURITY AND INVESTIGATIONS",
          "SEMICONDUCTOR MANUFACTURING",
          "SHIPBUILDING",
          "SOFTWARE DEVELOPMENT",
          "SPECTATOR SPORTS",
          "SPORTING GOODS MANUFACTURING",
          "STAFFING AND RECRUITING",
          "STRATEGIC MANAGEMENT SERVICES",
          "TECHNOLOGY, INFORMATION AND INTERNET",
          "TELECOMMUNICATIONS",
          "TEXTILE MANUFACTURING",
          "THINK TANKS",
          "TOBACCO MANUFACTURING",
          "TRANSLATION AND LOCALIZATION",
          "TRANSPORTATION, LOGISTICS, SUPPLY CHAIN AND STORAGE",
          "TRAVEL ARRANGEMENTS",
          "TRUCK TRANSPORTATION",
          "UTILITIES",
          "VENTURE CAPITAL AND PRIVATE EQUITY PRINCIPALS",
          "VETERINARY SERVICES",
          "WAREHOUSING AND STORAGE",
          "WELLNESS AND FITNESS SERVICES",
          "WHOLESALE",
          "WHOLESALE BUILDING MATERIALS",
          "WHOLESALE IMPORT AND EXPORT",
          "WIRELESS SERVICES",
          "WRITING AND EDITING",
          "[OTHER]"
         ],
         "labels": [
          "ACCOUNTING",
          "ADMINISTRATION OF JUSTICE",
          "ADVERTISING SERVICES",
          "AIRLINES AND AVIATION",
          "ALTERNATIVE DISPUTE RESOLUTION",
          "ALTERNATIVE MEDICINE",
          "ANIMATION AND POST-PRODUCTION",
          "APPLIANCES, ELECTRICAL, AND ELECTRONICS MANUFACTURING",
          "ARCHITECTURE AND PLANNING",
          "ARMED FORCES",
          "ARTISTS AND WRITERS",
          "AUTOMATION MACHINERY MANUFACTURING",
          "AVIATION AND AEROSPACE COMPONENT MANUFACTURING",
          "BANKING",
          "BEVERAGE MANUFACTURING",
          "BIOTECHNOLOGY RESEARCH",
          "BOOK AND PERIODICAL PUBLISHING",
          "BROADCAST MEDIA PRODUCTION AND DISTRIBUTION",
          "BUSINESS CONSULTING AND SERVICES",
          "CHEMICAL MANUFACTURING",
          "CIVIC AND SOCIAL ORGANIZATIONS",
          "CIVIL ENGINEERING",
          "COMPUTER AND NETWORK SECURITY",
          "COMPUTER GAMES",
          "COMPUTER HARDWARE MANUFACTURING",
          "COMPUTER NETWORKING PRODUCTS",
          "COMPUTERS AND ELECTRONICS MANUFACTURING",
          "CONSTRUCTION",
          "CONSUMER SERVICES",
          "DAIRY PRODUCT MANUFACTURING",
          "DEFENSE AND SPACE MANUFACTURING",
          "DESIGN SERVICES",
          "E-LEARNING PROVIDERS",
          "EDUCATION ADMINISTRATION PROGRAMS",
          "ENTERTAINMENT PROVIDERS",
          "ENVIRONMENTAL SERVICES",
          "EVENTS SERVICES",
          "EXECUTIVE OFFICES",
          "FACILITIES SERVICES",
          "FARMING",
          "FINANCIAL SERVICES",
          "FISHERIES",
          "FOOD AND BEVERAGE MANUFACTURING",
          "FOOD AND BEVERAGE SERVICES",
          "FREIGHT AND PACKAGE TRANSPORTATION",
          "FUNDRAISING",
          "FURNITURE AND HOME FURNISHINGS MANUFACTURING",
          "GAMBLING FACILITIES AND CASINOS",
          "GLASS, CERAMICS AND CONCRETE MANUFACTURING",
          "GOVERNMENT ADMINISTRATION",
          "GOVERNMENT RELATIONS SERVICES",
          "GRAPHIC DESIGN",
          "HIGHER EDUCATION",
          "HOSPITALITY",
          "HOSPITALS AND HEALTH CARE",
          "HUMAN RESOURCES SERVICES",
          "INDIVIDUAL AND FAMILY SERVICES",
          "INDUSTRIAL MACHINERY MANUFACTURING",
          "INFORMATION SERVICES",
          "INSURANCE",
          "INTERNATIONAL AFFAIRS",
          "INTERNATIONAL TRADE AND DEVELOPMENT",
          "INVESTMENT BANKING",
          "INVESTMENT MANAGEMENT",
          "IT SERVICES AND IT CONSULTING",
          "LAW ENFORCEMENT",
          "LAW PRACTICE",
          "LEASING NON-RESIDENTIAL REAL ESTATE",
          "LEGAL SERVICES",
          "LEGISLATIVE OFFICES",
          "LIBRARIES",
          "MACHINERY MANUFACTURING",
          "MANUFACTURING",
          "MARITIME TRANSPORTATION",
          "MARKET RESEARCH",
          "MEDIA PRODUCTION",
          "MEDICAL EQUIPMENT MANUFACTURING",
          "MEDICAL PRACTICES",
          "MENTAL HEALTH CARE",
          "MINING",
          "MOBILE GAMING APPS",
          "MOTOR VEHICLE MANUFACTURING",
          "MUSEUMS, HISTORICAL SITES, AND ZOOS",
          "MUSICIANS",
          "NANOTECHNOLOGY RESEARCH",
          "NEWSPAPER PUBLISHING",
          "NON-PROFIT ORGANIZATIONS",
          "OIL AND GAS",
          "ONLINE AUDIO AND VIDEO MEDIA",
          "OUTSOURCING AND OFFSHORING CONSULTING",
          "PACKAGING AND CONTAINERS MANUFACTURING",
          "PAPER AND FOREST PRODUCT MANUFACTURING",
          "PERFORMING ARTS",
          "PERSONAL CARE PRODUCT MANUFACTURING",
          "PHARMACEUTICAL MANUFACTURING",
          "PHILANTHROPIC FUNDRAISING SERVICES",
          "PHOTOGRAPHY",
          "PLASTICS MANUFACTURING",
          "POLITICAL ORGANIZATIONS",
          "PRIMARY AND SECONDARY EDUCATION",
          "PRINTING SERVICES",
          "PROFESSIONAL TRAINING AND COACHING",
          "PUBLIC POLICY OFFICES",
          "PUBLIC RELATIONS AND COMMUNICATIONS SERVICES",
          "PUBLIC SAFETY",
          "RAILROAD EQUIPMENT MANUFACTURING",
          "REAL ESTATE",
          "RECREATIONAL FACILITIES",
          "RELIGIOUS INSTITUTIONS",
          "RENEWABLE ENERGY SEMICONDUCTOR MANUFACTURING",
          "RESEARCH SERVICES",
          "RESTAURANTS",
          "RETAIL",
          "RETAIL APPAREL AND FASHION",
          "RETAIL GROCERIES",
          "RETAIL LUXURY GOODS AND JEWELRY",
          "RETAIL OFFICE EQUIPMENT",
          "SECURITY AND INVESTIGATIONS",
          "SEMICONDUCTOR MANUFACTURING",
          "SHIPBUILDING",
          "SOFTWARE DEVELOPMENT",
          "SPECTATOR SPORTS",
          "SPORTING GOODS MANUFACTURING",
          "STAFFING AND RECRUITING",
          "STRATEGIC MANAGEMENT SERVICES",
          "TECHNOLOGY, INFORMATION AND INTERNET",
          "TELECOMMUNICATIONS",
          "TEXTILE MANUFACTURING",
          "THINK TANKS",
          "TOBACCO MANUFACTURING",
          "TRANSLATION AND LOCALIZATION",
          "TRANSPORTATION, LOGISTICS, SUPPLY CHAIN AND STORAGE",
          "TRAVEL ARRANGEMENTS",
          "TRUCK TRANSPORTATION",
          "UTILITIES",
          "VENTURE CAPITAL AND PRIVATE EQUITY PRINCIPALS",
          "VETERINARY SERVICES",
          "WAREHOUSING AND STORAGE",
          "WELLNESS AND FITNESS SERVICES",
          "WHOLESALE",
          "WHOLESALE BUILDING MATERIALS",
          "WHOLESALE IMPORT AND EXPORT",
          "WIRELESS SERVICES",
          "WRITING AND EDITING",
          "[OTHER]"
         ],
         "name": "",
         "parents": [
          "",
          "",
          "",
          "",
          "",
          "",
          "",
          "",
          "",
          "",
          "",
          "",
          "",
          "",
          "",
          "",
          "",
          "",
          "",
          "",
          "",
          "",
          "",
          "",
          "",
          "",
          "",
          "",
          "",
          "",
          "",
          "",
          "",
          "",
          "",
          "",
          "",
          "",
          "",
          "",
          "",
          "",
          "",
          "",
          "",
          "",
          "",
          "",
          "",
          "",
          "",
          "",
          "",
          "",
          "",
          "",
          "",
          "",
          "",
          "",
          "",
          "",
          "",
          "",
          "",
          "",
          "",
          "",
          "",
          "",
          "",
          "",
          "",
          "",
          "",
          "",
          "",
          "",
          "",
          "",
          "",
          "",
          "",
          "",
          "",
          "",
          "",
          "",
          "",
          "",
          "",
          "",
          "",
          "",
          "",
          "",
          "",
          "",
          "",
          "",
          "",
          "",
          "",
          "",
          "",
          "",
          "",
          "",
          "",
          "",
          "",
          "",
          "",
          "",
          "",
          "",
          "",
          "",
          "",
          "",
          "",
          "",
          "",
          "",
          "",
          "",
          "",
          "",
          "",
          "",
          "",
          "",
          "",
          "",
          "",
          "",
          "",
          "",
          "",
          "",
          "",
          "",
          "",
          "",
          ""
         ],
         "textinfo": "label+percent entry",
         "type": "treemap",
         "values": [
          151,
          7,
          620,
          81,
          1,
          14,
          3,
          194,
          98,
          18,
          9,
          87,
          121,
          220,
          49,
          316,
          51,
          72,
          496,
          139,
          68,
          156,
          109,
          42,
          22,
          6,
          53,
          751,
          112,
          3,
          176,
          103,
          74,
          236,
          139,
          214,
          62,
          17,
          104,
          29,
          986,
          2,
          193,
          280,
          8,
          17,
          51,
          41,
          9,
          372,
          27,
          4,
          439,
          356,
          1672,
          244,
          150,
          239,
          61,
          492,
          12,
          25,
          18,
          11,
          2128,
          17,
          464,
          6,
          25,
          2,
          7,
          176,
          359,
          4,
          21,
          56,
          243,
          75,
          270,
          69,
          1,
          294,
          41,
          30,
          4,
          15,
          617,
          224,
          37,
          41,
          79,
          32,
          25,
          67,
          194,
          5,
          6,
          53,
          17,
          132,
          38,
          57,
          3,
          87,
          41,
          6,
          545,
          22,
          26,
          121,
          102,
          106,
          488,
          234,
          5,
          79,
          35,
          77,
          78,
          6,
          1437,
          76,
          8,
          2384,
          1,
          66,
          163,
          24,
          8,
          6,
          16,
          48,
          64,
          372,
          184,
          33,
          10,
          2,
          248,
          100,
          166,
          2,
          1,
          9,
          108
         ]
        }
       ],
       "layout": {
        "legend": {
         "tracegroupgap": 0
        },
        "template": {
         "data": {
          "bar": [
           {
            "error_x": {
             "color": "#2a3f5f"
            },
            "error_y": {
             "color": "#2a3f5f"
            },
            "marker": {
             "line": {
              "color": "#E5ECF6",
              "width": 0.5
             },
             "pattern": {
              "fillmode": "overlay",
              "size": 10,
              "solidity": 0.2
             }
            },
            "type": "bar"
           }
          ],
          "barpolar": [
           {
            "marker": {
             "line": {
              "color": "#E5ECF6",
              "width": 0.5
             },
             "pattern": {
              "fillmode": "overlay",
              "size": 10,
              "solidity": 0.2
             }
            },
            "type": "barpolar"
           }
          ],
          "carpet": [
           {
            "aaxis": {
             "endlinecolor": "#2a3f5f",
             "gridcolor": "white",
             "linecolor": "white",
             "minorgridcolor": "white",
             "startlinecolor": "#2a3f5f"
            },
            "baxis": {
             "endlinecolor": "#2a3f5f",
             "gridcolor": "white",
             "linecolor": "white",
             "minorgridcolor": "white",
             "startlinecolor": "#2a3f5f"
            },
            "type": "carpet"
           }
          ],
          "choropleth": [
           {
            "colorbar": {
             "outlinewidth": 0,
             "ticks": ""
            },
            "type": "choropleth"
           }
          ],
          "contour": [
           {
            "colorbar": {
             "outlinewidth": 0,
             "ticks": ""
            },
            "colorscale": [
             [
              0,
              "#0d0887"
             ],
             [
              0.1111111111111111,
              "#46039f"
             ],
             [
              0.2222222222222222,
              "#7201a8"
             ],
             [
              0.3333333333333333,
              "#9c179e"
             ],
             [
              0.4444444444444444,
              "#bd3786"
             ],
             [
              0.5555555555555556,
              "#d8576b"
             ],
             [
              0.6666666666666666,
              "#ed7953"
             ],
             [
              0.7777777777777778,
              "#fb9f3a"
             ],
             [
              0.8888888888888888,
              "#fdca26"
             ],
             [
              1,
              "#f0f921"
             ]
            ],
            "type": "contour"
           }
          ],
          "contourcarpet": [
           {
            "colorbar": {
             "outlinewidth": 0,
             "ticks": ""
            },
            "type": "contourcarpet"
           }
          ],
          "heatmap": [
           {
            "colorbar": {
             "outlinewidth": 0,
             "ticks": ""
            },
            "colorscale": [
             [
              0,
              "#0d0887"
             ],
             [
              0.1111111111111111,
              "#46039f"
             ],
             [
              0.2222222222222222,
              "#7201a8"
             ],
             [
              0.3333333333333333,
              "#9c179e"
             ],
             [
              0.4444444444444444,
              "#bd3786"
             ],
             [
              0.5555555555555556,
              "#d8576b"
             ],
             [
              0.6666666666666666,
              "#ed7953"
             ],
             [
              0.7777777777777778,
              "#fb9f3a"
             ],
             [
              0.8888888888888888,
              "#fdca26"
             ],
             [
              1,
              "#f0f921"
             ]
            ],
            "type": "heatmap"
           }
          ],
          "heatmapgl": [
           {
            "colorbar": {
             "outlinewidth": 0,
             "ticks": ""
            },
            "colorscale": [
             [
              0,
              "#0d0887"
             ],
             [
              0.1111111111111111,
              "#46039f"
             ],
             [
              0.2222222222222222,
              "#7201a8"
             ],
             [
              0.3333333333333333,
              "#9c179e"
             ],
             [
              0.4444444444444444,
              "#bd3786"
             ],
             [
              0.5555555555555556,
              "#d8576b"
             ],
             [
              0.6666666666666666,
              "#ed7953"
             ],
             [
              0.7777777777777778,
              "#fb9f3a"
             ],
             [
              0.8888888888888888,
              "#fdca26"
             ],
             [
              1,
              "#f0f921"
             ]
            ],
            "type": "heatmapgl"
           }
          ],
          "histogram": [
           {
            "marker": {
             "pattern": {
              "fillmode": "overlay",
              "size": 10,
              "solidity": 0.2
             }
            },
            "type": "histogram"
           }
          ],
          "histogram2d": [
           {
            "colorbar": {
             "outlinewidth": 0,
             "ticks": ""
            },
            "colorscale": [
             [
              0,
              "#0d0887"
             ],
             [
              0.1111111111111111,
              "#46039f"
             ],
             [
              0.2222222222222222,
              "#7201a8"
             ],
             [
              0.3333333333333333,
              "#9c179e"
             ],
             [
              0.4444444444444444,
              "#bd3786"
             ],
             [
              0.5555555555555556,
              "#d8576b"
             ],
             [
              0.6666666666666666,
              "#ed7953"
             ],
             [
              0.7777777777777778,
              "#fb9f3a"
             ],
             [
              0.8888888888888888,
              "#fdca26"
             ],
             [
              1,
              "#f0f921"
             ]
            ],
            "type": "histogram2d"
           }
          ],
          "histogram2dcontour": [
           {
            "colorbar": {
             "outlinewidth": 0,
             "ticks": ""
            },
            "colorscale": [
             [
              0,
              "#0d0887"
             ],
             [
              0.1111111111111111,
              "#46039f"
             ],
             [
              0.2222222222222222,
              "#7201a8"
             ],
             [
              0.3333333333333333,
              "#9c179e"
             ],
             [
              0.4444444444444444,
              "#bd3786"
             ],
             [
              0.5555555555555556,
              "#d8576b"
             ],
             [
              0.6666666666666666,
              "#ed7953"
             ],
             [
              0.7777777777777778,
              "#fb9f3a"
             ],
             [
              0.8888888888888888,
              "#fdca26"
             ],
             [
              1,
              "#f0f921"
             ]
            ],
            "type": "histogram2dcontour"
           }
          ],
          "mesh3d": [
           {
            "colorbar": {
             "outlinewidth": 0,
             "ticks": ""
            },
            "type": "mesh3d"
           }
          ],
          "parcoords": [
           {
            "line": {
             "colorbar": {
              "outlinewidth": 0,
              "ticks": ""
             }
            },
            "type": "parcoords"
           }
          ],
          "pie": [
           {
            "automargin": true,
            "type": "pie"
           }
          ],
          "scatter": [
           {
            "fillpattern": {
             "fillmode": "overlay",
             "size": 10,
             "solidity": 0.2
            },
            "type": "scatter"
           }
          ],
          "scatter3d": [
           {
            "line": {
             "colorbar": {
              "outlinewidth": 0,
              "ticks": ""
             }
            },
            "marker": {
             "colorbar": {
              "outlinewidth": 0,
              "ticks": ""
             }
            },
            "type": "scatter3d"
           }
          ],
          "scattercarpet": [
           {
            "marker": {
             "colorbar": {
              "outlinewidth": 0,
              "ticks": ""
             }
            },
            "type": "scattercarpet"
           }
          ],
          "scattergeo": [
           {
            "marker": {
             "colorbar": {
              "outlinewidth": 0,
              "ticks": ""
             }
            },
            "type": "scattergeo"
           }
          ],
          "scattergl": [
           {
            "marker": {
             "colorbar": {
              "outlinewidth": 0,
              "ticks": ""
             }
            },
            "type": "scattergl"
           }
          ],
          "scattermapbox": [
           {
            "marker": {
             "colorbar": {
              "outlinewidth": 0,
              "ticks": ""
             }
            },
            "type": "scattermapbox"
           }
          ],
          "scatterpolar": [
           {
            "marker": {
             "colorbar": {
              "outlinewidth": 0,
              "ticks": ""
             }
            },
            "type": "scatterpolar"
           }
          ],
          "scatterpolargl": [
           {
            "marker": {
             "colorbar": {
              "outlinewidth": 0,
              "ticks": ""
             }
            },
            "type": "scatterpolargl"
           }
          ],
          "scatterternary": [
           {
            "marker": {
             "colorbar": {
              "outlinewidth": 0,
              "ticks": ""
             }
            },
            "type": "scatterternary"
           }
          ],
          "surface": [
           {
            "colorbar": {
             "outlinewidth": 0,
             "ticks": ""
            },
            "colorscale": [
             [
              0,
              "#0d0887"
             ],
             [
              0.1111111111111111,
              "#46039f"
             ],
             [
              0.2222222222222222,
              "#7201a8"
             ],
             [
              0.3333333333333333,
              "#9c179e"
             ],
             [
              0.4444444444444444,
              "#bd3786"
             ],
             [
              0.5555555555555556,
              "#d8576b"
             ],
             [
              0.6666666666666666,
              "#ed7953"
             ],
             [
              0.7777777777777778,
              "#fb9f3a"
             ],
             [
              0.8888888888888888,
              "#fdca26"
             ],
             [
              1,
              "#f0f921"
             ]
            ],
            "type": "surface"
           }
          ],
          "table": [
           {
            "cells": {
             "fill": {
              "color": "#EBF0F8"
             },
             "line": {
              "color": "white"
             }
            },
            "header": {
             "fill": {
              "color": "#C8D4E3"
             },
             "line": {
              "color": "white"
             }
            },
            "type": "table"
           }
          ]
         },
         "layout": {
          "annotationdefaults": {
           "arrowcolor": "#2a3f5f",
           "arrowhead": 0,
           "arrowwidth": 1
          },
          "autotypenumbers": "strict",
          "coloraxis": {
           "colorbar": {
            "outlinewidth": 0,
            "ticks": ""
           }
          },
          "colorscale": {
           "diverging": [
            [
             0,
             "#8e0152"
            ],
            [
             0.1,
             "#c51b7d"
            ],
            [
             0.2,
             "#de77ae"
            ],
            [
             0.3,
             "#f1b6da"
            ],
            [
             0.4,
             "#fde0ef"
            ],
            [
             0.5,
             "#f7f7f7"
            ],
            [
             0.6,
             "#e6f5d0"
            ],
            [
             0.7,
             "#b8e186"
            ],
            [
             0.8,
             "#7fbc41"
            ],
            [
             0.9,
             "#4d9221"
            ],
            [
             1,
             "#276419"
            ]
           ],
           "sequential": [
            [
             0,
             "#0d0887"
            ],
            [
             0.1111111111111111,
             "#46039f"
            ],
            [
             0.2222222222222222,
             "#7201a8"
            ],
            [
             0.3333333333333333,
             "#9c179e"
            ],
            [
             0.4444444444444444,
             "#bd3786"
            ],
            [
             0.5555555555555556,
             "#d8576b"
            ],
            [
             0.6666666666666666,
             "#ed7953"
            ],
            [
             0.7777777777777778,
             "#fb9f3a"
            ],
            [
             0.8888888888888888,
             "#fdca26"
            ],
            [
             1,
             "#f0f921"
            ]
           ],
           "sequentialminus": [
            [
             0,
             "#0d0887"
            ],
            [
             0.1111111111111111,
             "#46039f"
            ],
            [
             0.2222222222222222,
             "#7201a8"
            ],
            [
             0.3333333333333333,
             "#9c179e"
            ],
            [
             0.4444444444444444,
             "#bd3786"
            ],
            [
             0.5555555555555556,
             "#d8576b"
            ],
            [
             0.6666666666666666,
             "#ed7953"
            ],
            [
             0.7777777777777778,
             "#fb9f3a"
            ],
            [
             0.8888888888888888,
             "#fdca26"
            ],
            [
             1,
             "#f0f921"
            ]
           ]
          },
          "colorway": [
           "#636efa",
           "#EF553B",
           "#00cc96",
           "#ab63fa",
           "#FFA15A",
           "#19d3f3",
           "#FF6692",
           "#B6E880",
           "#FF97FF",
           "#FECB52"
          ],
          "font": {
           "color": "#2a3f5f"
          },
          "geo": {
           "bgcolor": "white",
           "lakecolor": "white",
           "landcolor": "#E5ECF6",
           "showlakes": true,
           "showland": true,
           "subunitcolor": "white"
          },
          "hoverlabel": {
           "align": "left"
          },
          "hovermode": "closest",
          "mapbox": {
           "style": "light"
          },
          "paper_bgcolor": "white",
          "plot_bgcolor": "#E5ECF6",
          "polar": {
           "angularaxis": {
            "gridcolor": "white",
            "linecolor": "white",
            "ticks": ""
           },
           "bgcolor": "#E5ECF6",
           "radialaxis": {
            "gridcolor": "white",
            "linecolor": "white",
            "ticks": ""
           }
          },
          "scene": {
           "xaxis": {
            "backgroundcolor": "#E5ECF6",
            "gridcolor": "white",
            "gridwidth": 2,
            "linecolor": "white",
            "showbackground": true,
            "ticks": "",
            "zerolinecolor": "white"
           },
           "yaxis": {
            "backgroundcolor": "#E5ECF6",
            "gridcolor": "white",
            "gridwidth": 2,
            "linecolor": "white",
            "showbackground": true,
            "ticks": "",
            "zerolinecolor": "white"
           },
           "zaxis": {
            "backgroundcolor": "#E5ECF6",
            "gridcolor": "white",
            "gridwidth": 2,
            "linecolor": "white",
            "showbackground": true,
            "ticks": "",
            "zerolinecolor": "white"
           }
          },
          "shapedefaults": {
           "line": {
            "color": "#2a3f5f"
           }
          },
          "ternary": {
           "aaxis": {
            "gridcolor": "white",
            "linecolor": "white",
            "ticks": ""
           },
           "baxis": {
            "gridcolor": "white",
            "linecolor": "white",
            "ticks": ""
           },
           "bgcolor": "#E5ECF6",
           "caxis": {
            "gridcolor": "white",
            "linecolor": "white",
            "ticks": ""
           }
          },
          "title": {
           "x": 0.05
          },
          "xaxis": {
           "automargin": true,
           "gridcolor": "white",
           "linecolor": "white",
           "ticks": "",
           "title": {
            "standoff": 15
           },
           "zerolinecolor": "white",
           "zerolinewidth": 2
          },
          "yaxis": {
           "automargin": true,
           "gridcolor": "white",
           "linecolor": "white",
           "ticks": "",
           "title": {
            "standoff": 15
           },
           "zerolinecolor": "white",
           "zerolinewidth": 2
          }
         }
        },
        "title": {
         "text": "Number of Companies per Industry"
        },
        "transition": {
         "duration": 0
        }
       }
      }
     },
     "metadata": {},
     "output_type": "display_data"
    }
   ],
   "source": [
    "# Group by industry and count the number of companies in each industry\n",
    "industry_counts = df_companies.explode('industry').groupby('industry')['company_id'].count().reset_index()\n",
    "\n",
    "# Create a treemap to visualize the different industries and company counts\n",
    "fig = px.treemap(\n",
    "    industry_counts,\n",
    "    path=['industry'],\n",
    "    values='company_id',\n",
    "    title='Number of Companies per Industry'\n",
    ")\n",
    "\n",
    "fig.update_traces(textinfo='label+percent entry')\n",
    "fig.update_layout(transition_duration=0)\n",
    "fig.show()"
   ]
  },
  {
   "cell_type": "code",
   "execution_count": 6,
   "metadata": {},
   "outputs": [
    {
     "data": {
      "image/png": "[encoded data removed]",
      "text/plain": [
       "<Figure size 1000x600 with 1 Axes>"
      ]
     },
     "metadata": {},
     "output_type": "display_data"
    }
   ],
   "source": [
    "# Scatter plot to visualize the relationship between employee count and follower count\n",
    "plt.figure(figsize=(10, 6))\n",
    "\n",
    "# Plot the scatter points\n",
    "plt.scatter(\n",
    "    df_companies[\"employee_count\"],\n",
    "    df_companies[\"follower_count\"],\n",
    "    alpha=0.7,\n",
    "    edgecolors='k'\n",
    ")\n",
    "\n",
    "# Add labels, title, and grid\n",
    "plt.title(\"Employee Count vs. Follower Count\", fontsize=16)\n",
    "plt.xlabel(\"Employee Count\", fontsize=12)\n",
    "plt.ylabel(\"Follower Count\", fontsize=12)\n",
    "plt.grid(True, linestyle='--', alpha=0.6)"
   ]
  },
  {
   "cell_type": "code",
   "execution_count": 7,
   "metadata": {},
   "outputs": [
    {
     "data": {
      "application/vnd.plotly.v1+json": {
       "config": {
        "plotlyServerURL": "https://plot.ly"
       },
       "data": [
        {
         "coloraxis": "coloraxis",
         "geo": "geo",
         "hovertemplate": "<b>%{hovertext}</b><br><br>country=%{location}<br>company_count=%{z}<extra></extra>",
         "hovertext": [
          "0",
          "AE",
          "AF",
          "AR",
          "AT",
          "AU",
          "AZ",
          "BD",
          "BE",
          "BG",
          "BM",
          "BR",
          "CA",
          "CH",
          "CL",
          "CN",
          "CO",
          "CR",
          "CY",
          "CZ",
          "DE",
          "DK",
          "EE",
          "ES",
          "FI",
          "FR",
          "GB",
          "GE",
          "GR",
          "HK",
          "HN",
          "HU",
          "ID",
          "IE",
          "IL",
          "IN",
          "IR",
          "IS",
          "IT",
          "JM",
          "JO",
          "JP",
          "KE",
          "KH",
          "KR",
          "KW",
          "KY",
          "LB",
          "LI",
          "LT",
          "LU",
          "MA",
          "MC",
          "MT",
          "MU",
          "MX",
          "NG",
          "NL",
          "NO",
          "NZ",
          "OO",
          "PA",
          "PH",
          "PK",
          "PL",
          "PR",
          "PT",
          "RO",
          "SA",
          "SC",
          "SE",
          "SG",
          "SV",
          "TR",
          "TW",
          "UA",
          "US",
          "VE",
          "VN",
          "ZA"
         ],
         "locationmode": "country names",
         "locations": [
          "0",
          "AE",
          "AF",
          "AR",
          "AT",
          "AU",
          "AZ",
          "BD",
          "BE",
          "BG",
          "BM",
          "BR",
          "CA",
          "CH",
          "CL",
          "CN",
          "CO",
          "CR",
          "CY",
          "CZ",
          "DE",
          "DK",
          "EE",
          "ES",
          "FI",
          "FR",
          "GB",
          "GE",
          "GR",
          "HK",
          "HN",
          "HU",
          "ID",
          "IE",
          "IL",
          "IN",
          "IR",
          "IS",
          "IT",
          "JM",
          "JO",
          "JP",
          "KE",
          "KH",
          "KR",
          "KW",
          "KY",
          "LB",
          "LI",
          "LT",
          "LU",
          "MA",
          "MC",
          "MT",
          "MU",
          "MX",
          "NG",
          "NL",
          "NO",
          "NZ",
          "OO",
          "PA",
          "PH",
          "PK",
          "PL",
          "PR",
          "PT",
          "RO",
          "SA",
          "SC",
          "SE",
          "SG",
          "SV",
          "TR",
          "TW",
          "UA",
          "US",
          "VE",
          "VN",
          "ZA"
         ],
         "name": "",
         "type": "choropleth",
         "z": [
          727,
          20,
          1,
          1,
          11,
          73,
          1,
          1,
          29,
          1,
          7,
          10,
          258,
          93,
          2,
          47,
          1,
          1,
          2,
          3,
          128,
          42,
          4,
          31,
          16,
          118,
          614,
          1,
          2,
          11,
          1,
          2,
          1,
          28,
          21,
          156,
          2,
          2,
          45,
          2,
          1,
          23,
          1,
          1,
          8,
          1,
          1,
          1,
          1,
          2,
          9,
          2,
          1,
          2,
          1,
          16,
          1,
          64,
          10,
          10,
          17,
          2,
          2,
          8,
          1,
          3,
          1,
          4,
          3,
          1,
          48,
          30,
          1,
          1,
          12,
          3,
          21623,
          1,
          3,
          14
         ]
        }
       ],
       "layout": {
        "coloraxis": {
         "colorbar": {
          "title": {
           "text": "Number of Companies"
          }
         },
         "colorscale": [
          [
           0,
           "rgb(247,251,255)"
          ],
          [
           0.125,
           "rgb(222,235,247)"
          ],
          [
           0.25,
           "rgb(198,219,239)"
          ],
          [
           0.375,
           "rgb(158,202,225)"
          ],
          [
           0.5,
           "rgb(107,174,214)"
          ],
          [
           0.625,
           "rgb(66,146,198)"
          ],
          [
           0.75,
           "rgb(33,113,181)"
          ],
          [
           0.875,
           "rgb(8,81,156)"
          ],
          [
           1,
           "rgb(8,48,107)"
          ]
         ]
        },
        "geo": {
         "center": {},
         "domain": {
          "x": [
           0,
           1
          ],
          "y": [
           0,
           1
          ]
         }
        },
        "legend": {
         "tracegroupgap": 0
        },
        "template": {
         "data": {
          "bar": [
           {
            "error_x": {
             "color": "#2a3f5f"
            },
            "error_y": {
             "color": "#2a3f5f"
            },
            "marker": {
             "line": {
              "color": "#E5ECF6",
              "width": 0.5
             },
             "pattern": {
              "fillmode": "overlay",
              "size": 10,
              "solidity": 0.2
             }
            },
            "type": "bar"
           }
          ],
          "barpolar": [
           {
            "marker": {
             "line": {
              "color": "#E5ECF6",
              "width": 0.5
             },
             "pattern": {
              "fillmode": "overlay",
              "size": 10,
              "solidity": 0.2
             }
            },
            "type": "barpolar"
           }
          ],
          "carpet": [
           {
            "aaxis": {
             "endlinecolor": "#2a3f5f",
             "gridcolor": "white",
             "linecolor": "white",
             "minorgridcolor": "white",
             "startlinecolor": "#2a3f5f"
            },
            "baxis": {
             "endlinecolor": "#2a3f5f",
             "gridcolor": "white",
             "linecolor": "white",
             "minorgridcolor": "white",
             "startlinecolor": "#2a3f5f"
            },
            "type": "carpet"
           }
          ],
          "choropleth": [
           {
            "colorbar": {
             "outlinewidth": 0,
             "ticks": ""
            },
            "type": "choropleth"
           }
          ],
          "contour": [
           {
            "colorbar": {
             "outlinewidth": 0,
             "ticks": ""
            },
            "colorscale": [
             [
              0,
              "#0d0887"
             ],
             [
              0.1111111111111111,
              "#46039f"
             ],
             [
              0.2222222222222222,
              "#7201a8"
             ],
             [
              0.3333333333333333,
              "#9c179e"
             ],
             [
              0.4444444444444444,
              "#bd3786"
             ],
             [
              0.5555555555555556,
              "#d8576b"
             ],
             [
              0.6666666666666666,
              "#ed7953"
             ],
             [
              0.7777777777777778,
              "#fb9f3a"
             ],
             [
              0.8888888888888888,
              "#fdca26"
             ],
             [
              1,
              "#f0f921"
             ]
            ],
            "type": "contour"
           }
          ],
          "contourcarpet": [
           {
            "colorbar": {
             "outlinewidth": 0,
             "ticks": ""
            },
            "type": "contourcarpet"
           }
          ],
          "heatmap": [
           {
            "colorbar": {
             "outlinewidth": 0,
             "ticks": ""
            },
            "colorscale": [
             [
              0,
              "#0d0887"
             ],
             [
              0.1111111111111111,
              "#46039f"
             ],
             [
              0.2222222222222222,
              "#7201a8"
             ],
             [
              0.3333333333333333,
              "#9c179e"
             ],
             [
              0.4444444444444444,
              "#bd3786"
             ],
             [
              0.5555555555555556,
              "#d8576b"
             ],
             [
              0.6666666666666666,
              "#ed7953"
             ],
             [
              0.7777777777777778,
              "#fb9f3a"
             ],
             [
              0.8888888888888888,
              "#fdca26"
             ],
             [
              1,
              "#f0f921"
             ]
            ],
            "type": "heatmap"
           }
          ],
          "heatmapgl": [
           {
            "colorbar": {
             "outlinewidth": 0,
             "ticks": ""
            },
            "colorscale": [
             [
              0,
              "#0d0887"
             ],
             [
              0.1111111111111111,
              "#46039f"
             ],
             [
              0.2222222222222222,
              "#7201a8"
             ],
             [
              0.3333333333333333,
              "#9c179e"
             ],
             [
              0.4444444444444444,
              "#bd3786"
             ],
             [
              0.5555555555555556,
              "#d8576b"
             ],
             [
              0.6666666666666666,
              "#ed7953"
             ],
             [
              0.7777777777777778,
              "#fb9f3a"
             ],
             [
              0.8888888888888888,
              "#fdca26"
             ],
             [
              1,
              "#f0f921"
             ]
            ],
            "type": "heatmapgl"
           }
          ],
          "histogram": [
           {
            "marker": {
             "pattern": {
              "fillmode": "overlay",
              "size": 10,
              "solidity": 0.2
             }
            },
            "type": "histogram"
           }
          ],
          "histogram2d": [
           {
            "colorbar": {
             "outlinewidth": 0,
             "ticks": ""
            },
            "colorscale": [
             [
              0,
              "#0d0887"
             ],
             [
              0.1111111111111111,
              "#46039f"
             ],
             [
              0.2222222222222222,
              "#7201a8"
             ],
             [
              0.3333333333333333,
              "#9c179e"
             ],
             [
              0.4444444444444444,
              "#bd3786"
             ],
             [
              0.5555555555555556,
              "#d8576b"
             ],
             [
              0.6666666666666666,
              "#ed7953"
             ],
             [
              0.7777777777777778,
              "#fb9f3a"
             ],
             [
              0.8888888888888888,
              "#fdca26"
             ],
             [
              1,
              "#f0f921"
             ]
            ],
            "type": "histogram2d"
           }
          ],
          "histogram2dcontour": [
           {
            "colorbar": {
             "outlinewidth": 0,
             "ticks": ""
            },
            "colorscale": [
             [
              0,
              "#0d0887"
             ],
             [
              0.1111111111111111,
              "#46039f"
             ],
             [
              0.2222222222222222,
              "#7201a8"
             ],
             [
              0.3333333333333333,
              "#9c179e"
             ],
             [
              0.4444444444444444,
              "#bd3786"
             ],
             [
              0.5555555555555556,
              "#d8576b"
             ],
             [
              0.6666666666666666,
              "#ed7953"
             ],
             [
              0.7777777777777778,
              "#fb9f3a"
             ],
             [
              0.8888888888888888,
              "#fdca26"
             ],
             [
              1,
              "#f0f921"
             ]
            ],
            "type": "histogram2dcontour"
           }
          ],
          "mesh3d": [
           {
            "colorbar": {
             "outlinewidth": 0,
             "ticks": ""
            },
            "type": "mesh3d"
           }
          ],
          "parcoords": [
           {
            "line": {
             "colorbar": {
              "outlinewidth": 0,
              "ticks": ""
             }
            },
            "type": "parcoords"
           }
          ],
          "pie": [
           {
            "automargin": true,
            "type": "pie"
           }
          ],
          "scatter": [
           {
            "fillpattern": {
             "fillmode": "overlay",
             "size": 10,
             "solidity": 0.2
            },
            "type": "scatter"
           }
          ],
          "scatter3d": [
           {
            "line": {
             "colorbar": {
              "outlinewidth": 0,
              "ticks": ""
             }
            },
            "marker": {
             "colorbar": {
              "outlinewidth": 0,
              "ticks": ""
             }
            },
            "type": "scatter3d"
           }
          ],
          "scattercarpet": [
           {
            "marker": {
             "colorbar": {
              "outlinewidth": 0,
              "ticks": ""
             }
            },
            "type": "scattercarpet"
           }
          ],
          "scattergeo": [
           {
            "marker": {
             "colorbar": {
              "outlinewidth": 0,
              "ticks": ""
             }
            },
            "type": "scattergeo"
           }
          ],
          "scattergl": [
           {
            "marker": {
             "colorbar": {
              "outlinewidth": 0,
              "ticks": ""
             }
            },
            "type": "scattergl"
           }
          ],
          "scattermapbox": [
           {
            "marker": {
             "colorbar": {
              "outlinewidth": 0,
              "ticks": ""
             }
            },
            "type": "scattermapbox"
           }
          ],
          "scatterpolar": [
           {
            "marker": {
             "colorbar": {
              "outlinewidth": 0,
              "ticks": ""
             }
            },
            "type": "scatterpolar"
           }
          ],
          "scatterpolargl": [
           {
            "marker": {
             "colorbar": {
              "outlinewidth": 0,
              "ticks": ""
             }
            },
            "type": "scatterpolargl"
           }
          ],
          "scatterternary": [
           {
            "marker": {
             "colorbar": {
              "outlinewidth": 0,
              "ticks": ""
             }
            },
            "type": "scatterternary"
           }
          ],
          "surface": [
           {
            "colorbar": {
             "outlinewidth": 0,
             "ticks": ""
            },
            "colorscale": [
             [
              0,
              "#0d0887"
             ],
             [
              0.1111111111111111,
              "#46039f"
             ],
             [
              0.2222222222222222,
              "#7201a8"
             ],
             [
              0.3333333333333333,
              "#9c179e"
             ],
             [
              0.4444444444444444,
              "#bd3786"
             ],
             [
              0.5555555555555556,
              "#d8576b"
             ],
             [
              0.6666666666666666,
              "#ed7953"
             ],
             [
              0.7777777777777778,
              "#fb9f3a"
             ],
             [
              0.8888888888888888,
              "#fdca26"
             ],
             [
              1,
              "#f0f921"
             ]
            ],
            "type": "surface"
           }
          ],
          "table": [
           {
            "cells": {
             "fill": {
              "color": "#EBF0F8"
             },
             "line": {
              "color": "white"
             }
            },
            "header": {
             "fill": {
              "color": "#C8D4E3"
             },
             "line": {
              "color": "white"
             }
            },
            "type": "table"
           }
          ]
         },
         "layout": {
          "annotationdefaults": {
           "arrowcolor": "#2a3f5f",
           "arrowhead": 0,
           "arrowwidth": 1
          },
          "autotypenumbers": "strict",
          "coloraxis": {
           "colorbar": {
            "outlinewidth": 0,
            "ticks": ""
           }
          },
          "colorscale": {
           "diverging": [
            [
             0,
             "#8e0152"
            ],
            [
             0.1,
             "#c51b7d"
            ],
            [
             0.2,
             "#de77ae"
            ],
            [
             0.3,
             "#f1b6da"
            ],
            [
             0.4,
             "#fde0ef"
            ],
            [
             0.5,
             "#f7f7f7"
            ],
            [
             0.6,
             "#e6f5d0"
            ],
            [
             0.7,
             "#b8e186"
            ],
            [
             0.8,
             "#7fbc41"
            ],
            [
             0.9,
             "#4d9221"
            ],
            [
             1,
             "#276419"
            ]
           ],
           "sequential": [
            [
             0,
             "#0d0887"
            ],
            [
             0.1111111111111111,
             "#46039f"
            ],
            [
             0.2222222222222222,
             "#7201a8"
            ],
            [
             0.3333333333333333,
             "#9c179e"
            ],
            [
             0.4444444444444444,
             "#bd3786"
            ],
            [
             0.5555555555555556,
             "#d8576b"
            ],
            [
             0.6666666666666666,
             "#ed7953"
            ],
            [
             0.7777777777777778,
             "#fb9f3a"
            ],
            [
             0.8888888888888888,
             "#fdca26"
            ],
            [
             1,
             "#f0f921"
            ]
           ],
           "sequentialminus": [
            [
             0,
             "#0d0887"
            ],
            [
             0.1111111111111111,
             "#46039f"
            ],
            [
             0.2222222222222222,
             "#7201a8"
            ],
            [
             0.3333333333333333,
             "#9c179e"
            ],
            [
             0.4444444444444444,
             "#bd3786"
            ],
            [
             0.5555555555555556,
             "#d8576b"
            ],
            [
             0.6666666666666666,
             "#ed7953"
            ],
            [
             0.7777777777777778,
             "#fb9f3a"
            ],
            [
             0.8888888888888888,
             "#fdca26"
            ],
            [
             1,
             "#f0f921"
            ]
           ]
          },
          "colorway": [
           "#636efa",
           "#EF553B",
           "#00cc96",
           "#ab63fa",
           "#FFA15A",
           "#19d3f3",
           "#FF6692",
           "#B6E880",
           "#FF97FF",
           "#FECB52"
          ],
          "font": {
           "color": "#2a3f5f"
          },
          "geo": {
           "bgcolor": "white",
           "lakecolor": "white",
           "landcolor": "#E5ECF6",
           "showlakes": true,
           "showland": true,
           "subunitcolor": "white"
          },
          "hoverlabel": {
           "align": "left"
          },
          "hovermode": "closest",
          "mapbox": {
           "style": "light"
          },
          "paper_bgcolor": "white",
          "plot_bgcolor": "#E5ECF6",
          "polar": {
           "angularaxis": {
            "gridcolor": "white",
            "linecolor": "white",
            "ticks": ""
           },
           "bgcolor": "#E5ECF6",
           "radialaxis": {
            "gridcolor": "white",
            "linecolor": "white",
            "ticks": ""
           }
          },
          "scene": {
           "xaxis": {
            "backgroundcolor": "#E5ECF6",
            "gridcolor": "white",
            "gridwidth": 2,
            "linecolor": "white",
            "showbackground": true,
            "ticks": "",
            "zerolinecolor": "white"
           },
           "yaxis": {
            "backgroundcolor": "#E5ECF6",
            "gridcolor": "white",
            "gridwidth": 2,
            "linecolor": "white",
            "showbackground": true,
            "ticks": "",
            "zerolinecolor": "white"
           },
           "zaxis": {
            "backgroundcolor": "#E5ECF6",
            "gridcolor": "white",
            "gridwidth": 2,
            "linecolor": "white",
            "showbackground": true,
            "ticks": "",
            "zerolinecolor": "white"
           }
          },
          "shapedefaults": {
           "line": {
            "color": "#2a3f5f"
           }
          },
          "ternary": {
           "aaxis": {
            "gridcolor": "white",
            "linecolor": "white",
            "ticks": ""
           },
           "baxis": {
            "gridcolor": "white",
            "linecolor": "white",
            "ticks": ""
           },
           "bgcolor": "#E5ECF6",
           "caxis": {
            "gridcolor": "white",
            "linecolor": "white",
            "ticks": ""
           }
          },
          "title": {
           "x": 0.05
          },
          "xaxis": {
           "automargin": true,
           "gridcolor": "white",
           "linecolor": "white",
           "ticks": "",
           "title": {
            "standoff": 15
           },
           "zerolinecolor": "white",
           "zerolinewidth": 2
          },
          "yaxis": {
           "automargin": true,
           "gridcolor": "white",
           "linecolor": "white",
           "ticks": "",
           "title": {
            "standoff": 15
           },
           "zerolinecolor": "white",
           "zerolinewidth": 2
          }
         }
        },
        "title": {
         "text": "Number of Companies in Each Country"
        }
       }
      }
     },
     "metadata": {},
     "output_type": "display_data"
    }
   ],
   "source": [
    "# Group by country and count the number of companies in each country\n",
    "country_counts = df_companies.groupby('country')['company_id'].count().reset_index()\n",
    "\n",
    "# Rename columns for compatibility with the choropleth function\n",
    "country_counts.columns = ['country', 'company_count']\n",
    "\n",
    "# Create a choropleth map to visualize the number of companies in each country\n",
    "fig = px.choropleth(\n",
    "    country_counts,\n",
    "    locations='country',\n",
    "    locationmode='country names',\n",
    "    color='company_count',\n",
    "    hover_name='country',\n",
    "    color_continuous_scale='Blues',\n",
    "    title='Number of Companies in Each Country'\n",
    ")\n",
    "\n",
    "fig.update_layout(\n",
    "    coloraxis_colorbar=dict(title=\"Number of Companies\"),\n",
    ")\n",
    "\n",
    "fig.show(\"vscode\")"
   ]
  },
  {
   "cell_type": "code",
   "execution_count": null,
   "metadata": {},
   "outputs": [
    {
     "data": {
      "application/vnd.jupyter.widget-view+json": {
       "model_id": "03f4993aeaf04bd99a1be4b4debf6839",
       "version_major": 2,
       "version_minor": 0
      },
      "text/plain": [
       "Dropdown(description='Select Company:', options=('IBM', 'GE HEALTHCARE', 'HEWLETT PACKARD ENTERPRISE', 'ORACLE…"
      ]
     },
     "metadata": {},
     "output_type": "display_data"
    },
    {
     "data": {
      "application/vnd.jupyter.widget-view+json": {
       "model_id": "0551997f330a4e87b02d19993c9d0610",
       "version_major": 2,
       "version_minor": 0
      },
      "text/plain": [
       "Output()"
      ]
     },
     "metadata": {},
     "output_type": "display_data"
    }
   ],
   "source": [
    "company_names = df_companies['name'].unique().tolist()\n",
    "\n",
    "# Create a dropdown widget\n",
    "dropdown = widgets.Dropdown(\n",
    "    options=company_names,\n",
    "    description='Select Company:',\n",
    "    disabled=False,\n",
    ")\n",
    "\n",
    "# Create an output widget to display company details\n",
    "output = widgets.Output()\n",
    "\n",
    "def on_change(change):\n",
    "    if change['type'] == 'change' and change['name'] == 'value':\n",
    "        with output:\n",
    "            clear_output()\n",
    "            selected_company = change['new']\n",
    "            company_details = df_companies[df_companies['name'] == selected_company]\n",
    "            if not company_details.empty:\n",
    "                print(\"Company Details:\")\n",
    "                print(company_details.transpose())\n",
    "            else:\n",
    "                print(\"Company not found.\")\n",
    "\n",
    "dropdown.observe(on_change)\n",
    "\n",
    "display(dropdown, output)"
   ]
  },
  {
   "cell_type": "code",
   "execution_count": 9,
   "metadata": {},
   "outputs": [],
   "source": [
    "df_job_postings = pd.read_csv('../data/transformed/postings_final.csv')\n",
    "\n",
    "df_job_postings[\"industry\"] = df_job_postings[\"industry\"].apply(json.loads)\n",
    "df_job_postings[\"speciality\"] = df_job_postings[\"speciality\"].apply(json.loads)\n",
    "df_job_postings[\"benefits\"] = df_job_postings[\"benefits\"].apply(json.loads)"
   ]
  },
  {
   "cell_type": "code",
   "execution_count": 10,
   "metadata": {},
   "outputs": [
    {
     "data": {
      "text/html": [
       "<div>\n",
       "<style scoped>\n",
       "    .dataframe tbody tr th:only-of-type {\n",
       "        vertical-align: middle;\n",
       "    }\n",
       "\n",
       "    .dataframe tbody tr th {\n",
       "        vertical-align: top;\n",
       "    }\n",
       "\n",
       "    .dataframe thead th {\n",
       "        text-align: right;\n",
       "    }\n",
       "</style>\n",
       "<table border=\"1\" class=\"dataframe\">\n",
       "  <thead>\n",
       "    <tr style=\"text-align: right;\">\n",
       "      <th></th>\n",
       "      <th>job_id</th>\n",
       "      <th>job_posting_url</th>\n",
       "      <th>company_id</th>\n",
       "      <th>name</th>\n",
       "      <th>country</th>\n",
       "      <th>state</th>\n",
       "      <th>city</th>\n",
       "      <th>title</th>\n",
       "      <th>description</th>\n",
       "      <th>formatted_experience_level</th>\n",
       "      <th>...</th>\n",
       "      <th>listed_time</th>\n",
       "      <th>original_listed_time</th>\n",
       "      <th>expiry</th>\n",
       "      <th>url</th>\n",
       "      <th>industry</th>\n",
       "      <th>speciality</th>\n",
       "      <th>benefits</th>\n",
       "      <th>employee_count</th>\n",
       "      <th>follower_count</th>\n",
       "      <th>time_recorded</th>\n",
       "    </tr>\n",
       "  </thead>\n",
       "  <tbody>\n",
       "    <tr>\n",
       "      <th>0</th>\n",
       "      <td>921716</td>\n",
       "      <td>https://www.linkedin.com/jobs/view/921716/?trk...</td>\n",
       "      <td>2774458</td>\n",
       "      <td>CORCORAN SAWYER SMITH</td>\n",
       "      <td>US</td>\n",
       "      <td>NJ</td>\n",
       "      <td>JERSEY CITY</td>\n",
       "      <td>MARKETING COORDINATOR</td>\n",
       "      <td>Job descriptionA leading real estate firm in N...</td>\n",
       "      <td>OTHER</td>\n",
       "      <td>...</td>\n",
       "      <td>2024-04-17 23:45:08</td>\n",
       "      <td>2024-04-17 23:45:08</td>\n",
       "      <td>2024-05-17 23:45:08</td>\n",
       "      <td>https://www.linkedin.com/company/corcoran-sawy...</td>\n",
       "      <td>[\"REAL ESTATE\"]</td>\n",
       "      <td>[\"REAL ESTATE\", \"NEW DEVELOPMENT\"]</td>\n",
       "      <td>[]</td>\n",
       "      <td>402</td>\n",
       "      <td>2351</td>\n",
       "      <td>1970-01-20 19:56:49.275</td>\n",
       "    </tr>\n",
       "    <tr>\n",
       "      <th>1</th>\n",
       "      <td>10998357</td>\n",
       "      <td>https://www.linkedin.com/jobs/view/10998357/?t...</td>\n",
       "      <td>64896719</td>\n",
       "      <td>THE NATIONAL EXEMPLAR</td>\n",
       "      <td>US</td>\n",
       "      <td>OHIO</td>\n",
       "      <td>MARIEMONT</td>\n",
       "      <td>ASSITANT RESTAURANT MANAGER</td>\n",
       "      <td>The National Exemplar is accepting application...</td>\n",
       "      <td>OTHER</td>\n",
       "      <td>...</td>\n",
       "      <td>2024-04-16 14:26:54</td>\n",
       "      <td>2024-04-16 14:26:54</td>\n",
       "      <td>2024-05-16 14:26:54</td>\n",
       "      <td>https://www.linkedin.com/company/the-national-...</td>\n",
       "      <td>[\"RESTAURANTS\"]</td>\n",
       "      <td>\"[OTHER]\"</td>\n",
       "      <td>[]</td>\n",
       "      <td>15</td>\n",
       "      <td>40</td>\n",
       "      <td>1970-01-20 19:54:39.321</td>\n",
       "    </tr>\n",
       "    <tr>\n",
       "      <th>2</th>\n",
       "      <td>23221523</td>\n",
       "      <td>https://www.linkedin.com/jobs/view/23221523/?t...</td>\n",
       "      <td>766262</td>\n",
       "      <td>ABRAMS FENSTERMAN, LLP</td>\n",
       "      <td>US</td>\n",
       "      <td>NEW YORK</td>\n",
       "      <td>LAKE SUCCESS</td>\n",
       "      <td>SENIOR ELDER LAW / TRUSTS AND ESTATES ASSOCIAT...</td>\n",
       "      <td>Senior Associate Attorney - Elder Law / Trusts...</td>\n",
       "      <td>OTHER</td>\n",
       "      <td>...</td>\n",
       "      <td>2024-04-12 04:23:32</td>\n",
       "      <td>2024-04-12 04:23:32</td>\n",
       "      <td>2024-05-12 04:23:32</td>\n",
       "      <td>https://www.linkedin.com/company/abrams-fenste...</td>\n",
       "      <td>[\"LAW PRACTICE\"]</td>\n",
       "      <td>[\"CIVIL LITIGATION\", \"CORPORATE &amp; SECURITIES L...</td>\n",
       "      <td>[401(K)]</td>\n",
       "      <td>222</td>\n",
       "      <td>2427</td>\n",
       "      <td>1970-01-20 19:48:17.299</td>\n",
       "    </tr>\n",
       "    <tr>\n",
       "      <th>3</th>\n",
       "      <td>91700727</td>\n",
       "      <td>https://www.linkedin.com/jobs/view/91700727/?t...</td>\n",
       "      <td>1481176</td>\n",
       "      <td>DOWNTOWN RALEIGH ALLIANCE</td>\n",
       "      <td>US</td>\n",
       "      <td>NORTH CAROLINA</td>\n",
       "      <td>RALEIGH</td>\n",
       "      <td>ECONOMIC DEVELOPMENT AND PLANNING INTERN</td>\n",
       "      <td>Job summary:The Economic Development &amp; Plannin...</td>\n",
       "      <td>OTHER</td>\n",
       "      <td>...</td>\n",
       "      <td>2024-04-18 16:01:39</td>\n",
       "      <td>2024-04-18 16:01:39</td>\n",
       "      <td>2024-05-18 16:01:39</td>\n",
       "      <td>https://www.linkedin.com/company/downtownralei...</td>\n",
       "      <td>[\"NON-PROFIT ORGANIZATIONS\"]</td>\n",
       "      <td>[\"ECONOMIC DEVELOPMENT\", \"CLEAN &amp; SAFE AMBASSO...</td>\n",
       "      <td>[]</td>\n",
       "      <td>22</td>\n",
       "      <td>7825</td>\n",
       "      <td>1970-01-20 19:57:39.851</td>\n",
       "    </tr>\n",
       "    <tr>\n",
       "      <th>4</th>\n",
       "      <td>103254301</td>\n",
       "      <td>https://www.linkedin.com/jobs/view/103254301/?...</td>\n",
       "      <td>81942316</td>\n",
       "      <td>RAW CEREAL</td>\n",
       "      <td>US</td>\n",
       "      <td>CA</td>\n",
       "      <td>LOS ANGELES</td>\n",
       "      <td>PRODUCER</td>\n",
       "      <td>Company DescriptionRaw Cereal is a creative de...</td>\n",
       "      <td>OTHER</td>\n",
       "      <td>...</td>\n",
       "      <td>2024-04-11 18:43:39</td>\n",
       "      <td>2024-04-11 18:43:39</td>\n",
       "      <td>2024-05-11 18:43:39</td>\n",
       "      <td>https://www.linkedin.com/company/raw-cereal</td>\n",
       "      <td>[\"DESIGN SERVICES\"]</td>\n",
       "      <td>\"[OTHER]\"</td>\n",
       "      <td>[]</td>\n",
       "      <td>11</td>\n",
       "      <td>447</td>\n",
       "      <td>1970-01-20 19:47:41.202</td>\n",
       "    </tr>\n",
       "  </tbody>\n",
       "</table>\n",
       "<p>5 rows × 29 columns</p>\n",
       "</div>"
      ],
      "text/plain": [
       "      job_id                                    job_posting_url  company_id  \\\n",
       "0     921716  https://www.linkedin.com/jobs/view/921716/?trk...     2774458   \n",
       "1   10998357  https://www.linkedin.com/jobs/view/10998357/?t...    64896719   \n",
       "2   23221523  https://www.linkedin.com/jobs/view/23221523/?t...      766262   \n",
       "3   91700727  https://www.linkedin.com/jobs/view/91700727/?t...     1481176   \n",
       "4  103254301  https://www.linkedin.com/jobs/view/103254301/?...    81942316   \n",
       "\n",
       "                        name country           state          city  \\\n",
       "0      CORCORAN SAWYER SMITH      US              NJ   JERSEY CITY   \n",
       "1      THE NATIONAL EXEMPLAR      US            OHIO     MARIEMONT   \n",
       "2     ABRAMS FENSTERMAN, LLP      US        NEW YORK  LAKE SUCCESS   \n",
       "3  DOWNTOWN RALEIGH ALLIANCE      US  NORTH CAROLINA       RALEIGH   \n",
       "4                 RAW CEREAL      US              CA   LOS ANGELES   \n",
       "\n",
       "                                               title  \\\n",
       "0                              MARKETING COORDINATOR   \n",
       "1                        ASSITANT RESTAURANT MANAGER   \n",
       "2  SENIOR ELDER LAW / TRUSTS AND ESTATES ASSOCIAT...   \n",
       "3           ECONOMIC DEVELOPMENT AND PLANNING INTERN   \n",
       "4                                           PRODUCER   \n",
       "\n",
       "                                         description  \\\n",
       "0  Job descriptionA leading real estate firm in N...   \n",
       "1  The National Exemplar is accepting application...   \n",
       "2  Senior Associate Attorney - Elder Law / Trusts...   \n",
       "3  Job summary:The Economic Development & Plannin...   \n",
       "4  Company DescriptionRaw Cereal is a creative de...   \n",
       "\n",
       "  formatted_experience_level  ...          listed_time  original_listed_time  \\\n",
       "0                      OTHER  ...  2024-04-17 23:45:08   2024-04-17 23:45:08   \n",
       "1                      OTHER  ...  2024-04-16 14:26:54   2024-04-16 14:26:54   \n",
       "2                      OTHER  ...  2024-04-12 04:23:32   2024-04-12 04:23:32   \n",
       "3                      OTHER  ...  2024-04-18 16:01:39   2024-04-18 16:01:39   \n",
       "4                      OTHER  ...  2024-04-11 18:43:39   2024-04-11 18:43:39   \n",
       "\n",
       "                expiry                                                url  \\\n",
       "0  2024-05-17 23:45:08  https://www.linkedin.com/company/corcoran-sawy...   \n",
       "1  2024-05-16 14:26:54  https://www.linkedin.com/company/the-national-...   \n",
       "2  2024-05-12 04:23:32  https://www.linkedin.com/company/abrams-fenste...   \n",
       "3  2024-05-18 16:01:39  https://www.linkedin.com/company/downtownralei...   \n",
       "4  2024-05-11 18:43:39        https://www.linkedin.com/company/raw-cereal   \n",
       "\n",
       "                       industry  \\\n",
       "0               [\"REAL ESTATE\"]   \n",
       "1               [\"RESTAURANTS\"]   \n",
       "2              [\"LAW PRACTICE\"]   \n",
       "3  [\"NON-PROFIT ORGANIZATIONS\"]   \n",
       "4           [\"DESIGN SERVICES\"]   \n",
       "\n",
       "                                          speciality  benefits  \\\n",
       "0                 [\"REAL ESTATE\", \"NEW DEVELOPMENT\"]        []   \n",
       "1                                          \"[OTHER]\"        []   \n",
       "2  [\"CIVIL LITIGATION\", \"CORPORATE & SECURITIES L...  [401(K)]   \n",
       "3  [\"ECONOMIC DEVELOPMENT\", \"CLEAN & SAFE AMBASSO...        []   \n",
       "4                                          \"[OTHER]\"        []   \n",
       "\n",
       "   employee_count  follower_count            time_recorded  \n",
       "0             402            2351  1970-01-20 19:56:49.275  \n",
       "1              15              40  1970-01-20 19:54:39.321  \n",
       "2             222            2427  1970-01-20 19:48:17.299  \n",
       "3              22            7825  1970-01-20 19:57:39.851  \n",
       "4              11             447  1970-01-20 19:47:41.202  \n",
       "\n",
       "[5 rows x 29 columns]"
      ]
     },
     "execution_count": 10,
     "metadata": {},
     "output_type": "execute_result"
    }
   ],
   "source": [
    "df_job_postings.head()"
   ]
  },
  {
   "cell_type": "code",
   "execution_count": 11,
   "metadata": {},
   "outputs": [
    {
     "data": {
      "image/png": "[encoded data removed]",
      "text/plain": [
       "<Figure size 1000x600 with 1 Axes>"
      ]
     },
     "metadata": {},
     "output_type": "display_data"
    }
   ],
   "source": [
    "# Group by work_type and count the number of jobs in each type\n",
    "work_type_counts = df_job_postings.groupby('work_type')['job_id'].count().reset_index()\n",
    "\n",
    "# Sort the work type counts in descending order\n",
    "work_type_counts = work_type_counts.sort_values('job_id', ascending=False)\n",
    "\n",
    "# Create a bar chart to visualize the distribution of jobs by work type\n",
    "plt.figure(figsize=(10, 6))\n",
    "plt.bar(\n",
    "    work_type_counts['work_type'],\n",
    "    work_type_counts['job_id']\n",
    ")\n",
    "for index, value in enumerate(work_type_counts['job_id']):\n",
    "    plt.text(\n",
    "        index,\n",
    "        value + 1,  # Position text slightly above the bar\n",
    "        str(value),\n",
    "        ha='center',\n",
    "        fontsize=10\n",
    "    )\n",
    "\n",
    "# Add title and labels\n",
    "plt.title('Distribution of Jobs by Work Type', fontsize=16)\n",
    "plt.xlabel('Work Type', fontsize=12)\n",
    "plt.ylabel('Number of Jobs', fontsize=12)\n",
    "plt.xticks(rotation=-45)  # Rotate x-axis labels\n",
    "\n",
    "# Display the chart\n",
    "plt.tight_layout()  # Adjust layout to prevent clipping\n",
    "plt.show()"
   ]
  },
  {
   "cell_type": "code",
   "execution_count": 12,
   "metadata": {},
   "outputs": [
    {
     "data": {
      "image/png": "[encoded data removed]",
      "text/plain": [
       "<Figure size 1000x800 with 1 Axes>"
      ]
     },
     "metadata": {},
     "output_type": "display_data"
    }
   ],
   "source": [
    "# Group by job title and count the number of occurrences\n",
    "job_title_counts = df_job_postings.groupby('title')['job_id'].count().reset_index()\n",
    "\n",
    "# Sort the job title counts in descending order to get the most common titles\n",
    "job_title_counts = job_title_counts.sort_values('job_id', ascending=False)\n",
    "\n",
    "# Select the top N most common job titles\n",
    "top_n = 10\n",
    "top_job_titles = job_title_counts.head(top_n)\n",
    "\n",
    "# Create a bar chart to visualize the most common job titles\n",
    "plt.figure(figsize=(10, 8))\n",
    "plt.barh(\n",
    "    top_job_titles['title'],\n",
    "    top_job_titles['job_id']\n",
    ")\n",
    "\n",
    "# Add text labels to the right of the bars\n",
    "for index, value in enumerate(top_job_titles['job_id']):\n",
    "    plt.text(\n",
    "        value + 2,  # Position the text slightly to the right of the bar\n",
    "        index,  # Align with the y-axis\n",
    "        str(value),\n",
    "        va='center',\n",
    "        fontsize=10\n",
    "    )\n",
    "\n",
    "# Add title and labels\n",
    "plt.title(f'Top {top_n} Most Common Job Titles', fontsize=16)\n",
    "plt.xlabel('Number of Jobs', fontsize=12)\n",
    "plt.ylabel('Job Title', fontsize=12)\n",
    "\n",
    "# Invert the y-axis for better readability (highest value on top)\n",
    "plt.gca().invert_yaxis()\n",
    "\n",
    "# Display the chart\n",
    "plt.tight_layout()\n",
    "plt.show()"
   ]
  },
  {
   "cell_type": "code",
   "execution_count": 13,
   "metadata": {},
   "outputs": [
    {
     "data": {
      "image/png": "[encoded data removed]",
      "text/plain": [
       "<Figure size 1400x800 with 1 Axes>"
      ]
     },
     "metadata": {},
     "output_type": "display_data"
    }
   ],
   "source": [
    "# Group by company name and count the number of job postings\n",
    "company_job_counts = df_job_postings.groupby('name')['job_id'].count().reset_index()\n",
    "\n",
    "# Sort the company job counts in descending order to get the companies with the most postings\n",
    "company_job_counts = company_job_counts.sort_values('job_id', ascending=False)\n",
    "\n",
    "# Select the top N companies with the most job postings\n",
    "top_n = 10\n",
    "top_companies = company_job_counts.head(top_n)\n",
    "\n",
    "# Create a bar chart to visualize the companies with the most job postings\n",
    "plt.figure(figsize=(14, 8))\n",
    "plt.barh(\n",
    "    top_companies['name'],\n",
    "    top_companies['job_id']\n",
    ")\n",
    "\n",
    "# Add text labels to the right of the bars\n",
    "for index, value in enumerate(top_companies['job_id']):\n",
    "    plt.text(\n",
    "        value + 1,  # Position the text slightly to the right of the bar\n",
    "        index,  # Align with the y-axis\n",
    "        str(value),\n",
    "        va='center',\n",
    "        fontsize=10\n",
    "    )\n",
    "\n",
    "# Add title and labels\n",
    "plt.title(f'Top {top_n} Companies with the Most Job Postings', fontsize=16)\n",
    "plt.xlabel('Number of Job Postings', fontsize=12)\n",
    "plt.ylabel('Company Name', fontsize=12)\n",
    "\n",
    "# Invert the y-axis for better readability (highest value on top)\n",
    "plt.gca().invert_yaxis()\n",
    "\n",
    "# Display the chart\n",
    "plt.tight_layout()  # Adjust layout to prevent clipping\n",
    "plt.show()"
   ]
  },
  {
   "cell_type": "code",
   "execution_count": 14,
   "metadata": {},
   "outputs": [
    {
     "data": {
      "image/png": "[encoded data removed]",
      "text/plain": [
       "<Figure size 1400x800 with 1 Axes>"
      ]
     },
     "metadata": {},
     "output_type": "display_data"
    }
   ],
   "source": [
    "# Flatten the 'benefits' list and count the occurrences of each benefit\n",
    "all_benefits = [benefit for benefits_list in df_job_postings['benefits'].dropna() for benefit in benefits_list]\n",
    "benefit_counts = pd.Series(all_benefits).value_counts()\n",
    "\n",
    "# Select the top N most frequent benefits and filter out the first 2\n",
    "top_n_benefits = 10\n",
    "top_benefits = benefit_counts.head(top_n_benefits).iloc[2:]  # Skip the first 2 benefits\n",
    "\n",
    "# Create a bar chart to visualize the most frequent benefits\n",
    "plt.figure(figsize=(14, 8))\n",
    "plt.barh(\n",
    "    top_benefits.index,\n",
    "    top_benefits.values\n",
    ")\n",
    "\n",
    "# Add text labels to the right of the bars\n",
    "for index, value in enumerate(top_benefits.values):\n",
    "    plt.text(\n",
    "        value + 6,  # Position the text slightly to the right of the bar\n",
    "        index,  # Align with the y-axis\n",
    "        str(value),\n",
    "        va='center',\n",
    "        fontsize=10\n",
    "    )\n",
    "\n",
    "# Add title and labels\n",
    "plt.title(f\"Top {top_n_benefits - 2} Most Frequently Offered Benefits\", fontsize=16)\n",
    "plt.xlabel(\"Number of Jobs\", fontsize=12)\n",
    "plt.ylabel(\"Benefit\", fontsize=12)\n",
    "\n",
    "# Invert the y-axis for better readability (highest value on top)\n",
    "plt.gca().invert_yaxis()\n",
    "\n",
    "# Display the chart\n",
    "plt.tight_layout()  # Adjust layout to prevent clipping\n",
    "plt.show()"
   ]
  },
  {
   "cell_type": "code",
   "execution_count": 15,
   "metadata": {},
   "outputs": [
    {
     "data": {
      "image/png": "[encoded data removed]",
      "text/plain": [
       "<Figure size 1200x600 with 1 Axes>"
      ]
     },
     "metadata": {},
     "output_type": "display_data"
    }
   ],
   "source": [
    "# Get the top 10 countries with the most job postings\n",
    "top_countries = df_job_postings['country'].value_counts().head(10).sort_values(ascending=True)\n",
    "\n",
    "# Plotting the bar chart horizontally\n",
    "plt.figure(figsize=(12, 6))\n",
    "plt.barh(\n",
    "    top_countries.index,\n",
    "    top_countries.values\n",
    ")\n",
    "\n",
    "# Adding title and labels\n",
    "plt.title('Top 10 Countries with the Most Job Postings', fontsize=16)\n",
    "plt.xlabel('Number of Postings', fontsize=12)\n",
    "plt.ylabel('Country', fontsize=12)\n",
    "\n",
    "# Show the plot\n",
    "plt.tight_layout()\n",
    "plt.show()"
   ]
  },
  {
   "cell_type": "code",
   "execution_count": null,
   "metadata": {},
   "outputs": [],
   "source": []
  }
 ],
 "metadata": {
  "kernelspec": {
   "display_name": "venv",
   "language": "python",
   "name": "python3"
  },
  "language_info": {
   "codemirror_mode": {
    "name": "ipython",
    "version": 3
   },
   "file_extension": ".py",
   "mimetype": "text/x-python",
   "name": "python",
   "nbconvert_exporter": "python",
   "pygments_lexer": "ipython3",
   "version": "3.13.0"
  }
 },
 "nbformat": 4,
 "nbformat_minor": 2
}
